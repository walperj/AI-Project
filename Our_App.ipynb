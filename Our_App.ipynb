{
 "cells": [
  {
   "cell_type": "code",
   "execution_count": null,
   "id": "1d62e9cd-32e4-4f82-bba7-def1292b16a4",
   "metadata": {},
   "outputs": [],
   "source": [
    "# The model structure integrated by us, with help from ChatGPT and the following source:\n",
    "# https://huggingface.co/docs/transformers/en/model_doc/whisper\n",
    "# We have made notes of where we implemented our own structure with #Own structure"
   ]
  },
  {
   "cell_type": "code",
   "execution_count": 3,
   "id": "99505289-5d8c-48e1-9329-6fb4cb307464",
   "metadata": {},
   "outputs": [
    {
     "name": "stdout",
     "output_type": "stream",
     "text": [
      "Requirement already satisfied: sounddevice in /Library/Frameworks/Python.framework/Versions/3.11/lib/python3.11/site-packages (0.4.6)\n",
      "Requirement already satisfied: CFFI>=1.0 in /Library/Frameworks/Python.framework/Versions/3.11/lib/python3.11/site-packages (from sounddevice) (1.16.0)\n",
      "Requirement already satisfied: pycparser in /Library/Frameworks/Python.framework/Versions/3.11/lib/python3.11/site-packages (from CFFI>=1.0->sounddevice) (2.21)\n"
     ]
    }
   ],
   "source": [
    "!pip install sounddevice"
   ]
  },
  {
   "cell_type": "code",
   "execution_count": 1,
   "id": "f15ff321-4de3-4a2f-981b-90fb80a51582",
   "metadata": {},
   "outputs": [
    {
     "name": "stdout",
     "output_type": "stream",
     "text": [
      "Recording my_recording.wav for 10 seconds...\n"
     ]
    }
   ],
   "source": [
    "#Own structure\n",
    "import sounddevice as sd\n",
    "import soundfile as sf\n",
    "\n",
    "def record_audio(filename, duration, samplerate=16000, channels=1):\n",
    "    print(f\"Recording {filename} for {duration} seconds...\")\n",
    "    my_recording = sd.rec(int(duration * samplerate), samplerate=samplerate, channels=channels)\n",
    "    sd.wait()\n",
    "    sf.write(filename, my_recording, samplerate)\n",
    "\n",
    "# Example usage\n",
    "record_audio(\"my_recording.wav\", 5)  # Record 5 seconds of audio to \"my_recording.wav\""
   ]
  },
  {
   "cell_type": "code",
   "execution_count": 6,
   "id": "bf54b920-a0e0-4105-bc0f-bc6304d72633",
   "metadata": {},
   "outputs": [
    {
     "name": "stderr",
     "output_type": "stream",
     "text": [
      "Special tokens have been added in the vocabulary, make sure the associated word embeddings are fine-tuned or trained.\n"
     ]
    },
    {
     "name": "stdout",
     "output_type": "stream",
     "text": [
      "['After another big small football season, the students knew they only had two options-they could either lose their sanity or follow the wise reads of their mentor.Choosing a latter, they followed the mantra-serenity now.']\n"
     ]
    }
   ],
   "source": [
    "\n",
    "import torchaudio\n",
    "from transformers import WhisperProcessor, WhisperForConditionalGeneration\n",
    "\n",
    "\n",
    "\n",
    "# Load the audio file\n",
    "waveform, sample_rate = torchaudio.load(\"my_recording.wav\")\n",
    "\n",
    "#waveform = torchaudio.transforms.Resample(sample_rate, 16000)(waveform)\n",
    "\n",
    "# Initialize the Whisper Processor and model\n",
    "processor = WhisperProcessor.from_pretrained(\"openai/whisper-small\")\n",
    "model = WhisperForConditionalGeneration.from_pretrained(\"/Users/JakeWalper/AI Code/Project/checkpoint-4000\")\n",
    "\n",
    "# Preprocess the audio\n",
    "input_features = processor(audio=waveform[0], sampling_rate=sample_rate, return_tensors=\"pt\").input_features\n",
    "\n",
    "# Pass the input features to the model\n",
    "predicted_ids = model.generate(input_features)\n",
    "\n",
    "# Decode the audio\n",
    "decoded_audio = processor.batch_decode(predicted_ids, skip_special_tokens=True)\n",
    "print(decoded_audio)\n"
   ]
  },
  {
   "cell_type": "code",
   "execution_count": null,
   "id": "0baf61d1-eb31-4c1b-be85-248e29ab10d9",
   "metadata": {},
   "outputs": [],
   "source": []
  }
 ],
 "metadata": {
  "kernelspec": {
   "display_name": "Python 3 (ipykernel)",
   "language": "python",
   "name": "python3"
  },
  "language_info": {
   "codemirror_mode": {
    "name": "ipython",
    "version": 3
   },
   "file_extension": ".py",
   "mimetype": "text/x-python",
   "name": "python",
   "nbconvert_exporter": "python",
   "pygments_lexer": "ipython3",
   "version": "3.11.3"
  }
 },
 "nbformat": 4,
 "nbformat_minor": 5
}
